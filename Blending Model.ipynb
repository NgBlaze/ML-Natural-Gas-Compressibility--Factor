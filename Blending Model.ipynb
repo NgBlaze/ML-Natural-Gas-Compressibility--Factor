{
 "cells": [
  {
   "cell_type": "code",
   "execution_count": 5,
   "id": "794e1f48",
   "metadata": {},
   "outputs": [],
   "source": [
    "# Import necessary libraries\n",
    "import pandas as pd\n",
    "\n",
    "# Define selected features and target variable\n",
    "selected_features = ['T (K)', 'P (MPa)', 'methane', 'ethane', 'propane',\n",
    "                     'ibutane', 'ipentane', 'hexane', 'heptane', 'helium',\n",
    "                     'oxygen', 'H2S', 'CO2']\n",
    "target_variable = 'z'\n",
    "\n",
    "# Load the dataset\n",
    "data = pd.read_csv('cleaneded_main_model_data.csv')\n",
    "\n",
    "# Extract selected features and target variable\n",
    "X = data[selected_features]\n",
    "y = data[target_variable]\n"
   ]
  },
  {
   "cell_type": "code",
   "execution_count": null,
   "id": "9f6a1d03",
   "metadata": {},
   "outputs": [],
   "source": []
  },
  {
   "cell_type": "code",
   "execution_count": 6,
   "id": "c072f92f",
   "metadata": {},
   "outputs": [],
   "source": [
    "from sklearn.model_selection import train_test_split\n",
    "\n",
    "# Split the data into training and testing sets (80% train, 20% test)\n",
    "X_train, X_test, y_train, y_test = train_test_split(X, y, test_size=0.2, random_state=42)\n"
   ]
  },
  {
   "cell_type": "code",
   "execution_count": null,
   "id": "9217acce",
   "metadata": {},
   "outputs": [],
   "source": []
  },
  {
   "cell_type": "code",
   "execution_count": 7,
   "id": "1e88f41d",
   "metadata": {},
   "outputs": [],
   "source": [
    "from sklearn.svm import NuSVR\n",
    "from sklearn.gaussian_process import GaussianProcessRegressor\n",
    "from sklearn.ensemble import AdaBoostRegressor\n",
    "from sklearn.ensemble import GradientBoostingRegressor\n",
    "from sklearn.neighbors import KNeighborsRegressor\n",
    "\n",
    "# Initialize base models\n",
    "model_NuSVR = NuSVR()\n",
    "model_GPR = GaussianProcessRegressor()\n",
    "model_AdaBoost = AdaBoostRegressor()\n",
    "model_SGDBoost = GradientBoostingRegressor()\n",
    "model_WKNN = KNeighborsRegressor()\n",
    "\n",
    "# Create a list of base models for blending\n",
    "def get_models():\n",
    "    models = []\n",
    "    models.append(('NuSVR', model_NuSVR))\n",
    "    models.append(('GPR', model_GPR))\n",
    "    models.append(('AdaBoost', model_AdaBoost))\n",
    "    models.append(('SGDBoost', model_SGDBoost))\n",
    "    models.append(('WKNN', model_WKNN))\n",
    "    return models\n"
   ]
  },
  {
   "cell_type": "code",
   "execution_count": null,
   "id": "0e542891",
   "metadata": {},
   "outputs": [],
   "source": []
  },
  {
   "cell_type": "code",
   "execution_count": 8,
   "id": "67f360e2",
   "metadata": {},
   "outputs": [],
   "source": [
    "# Fit the base models on the training data\n",
    "def fit_base_models(models, X_train, y_train):\n",
    "    for name, model in models:\n",
    "        model.fit(X_train, y_train)\n",
    "\n",
    "# Get the list of base models\n",
    "models = get_models()\n",
    "\n",
    "# Fit the base models on the training data\n",
    "fit_base_models(models, X_train, y_train)\n"
   ]
  },
  {
   "cell_type": "code",
   "execution_count": null,
   "id": "54740972",
   "metadata": {},
   "outputs": [],
   "source": []
  },
  {
   "cell_type": "code",
   "execution_count": 9,
   "id": "520c63d3",
   "metadata": {},
   "outputs": [],
   "source": [
    "from sklearn.metrics import mean_squared_error\n",
    "from sklearn.linear_model import LinearRegression\n",
    "from numpy import hstack\n",
    "\n",
    "# Fit the blending ensemble\n",
    "def fit_ensemble(models, X_train, y_train):\n",
    "    # Make predictions on the training data for blending\n",
    "    meta_X = []\n",
    "    for name, model in models:\n",
    "        yhat = model.predict(X_train)\n",
    "        yhat = yhat.reshape(len(yhat), 1)\n",
    "        meta_X.append(yhat)\n",
    "    \n",
    "    # Create 2D array from predictions as input features for blending\n",
    "    meta_X = hstack(meta_X)\n",
    "    \n",
    "    # Define and fit the blending model (e.g., Linear Regression)\n",
    "    blender = LinearRegression()\n",
    "    blender.fit(meta_X, y_train)\n",
    "    return blender\n",
    "\n",
    "# Train the blending ensemble\n",
    "blender = fit_ensemble(models, X_train, y_train)\n"
   ]
  },
  {
   "cell_type": "code",
   "execution_count": null,
   "id": "9c97a591",
   "metadata": {},
   "outputs": [],
   "source": []
  },
  {
   "cell_type": "code",
   "execution_count": 10,
   "id": "7787b8d2",
   "metadata": {},
   "outputs": [],
   "source": [
    "# Make predictions with the blending ensemble\n",
    "def predict_ensemble(models, blender, X_test):\n",
    "    # Make predictions with base models on the test data\n",
    "    meta_X = []\n",
    "    for name, model in models:\n",
    "        yhat = model.predict(X_test)\n",
    "        yhat = yhat.reshape(len(yhat), 1)\n",
    "        meta_X.append(yhat)\n",
    "    \n",
    "    # Create 2D array from predictions for the test data\n",
    "    meta_X = hstack(meta_X)\n",
    "    \n",
    "    # Predict using the blending model\n",
    "    return blender.predict(meta_X)\n",
    "\n",
    "# Make predictions on the test data using the blending ensemble\n",
    "blended_predictions = predict_ensemble(models, blender, X_test)\n"
   ]
  },
  {
   "cell_type": "code",
   "execution_count": null,
   "id": "84f41b7e",
   "metadata": {},
   "outputs": [],
   "source": []
  },
  {
   "cell_type": "code",
   "execution_count": 11,
   "id": "3e4dcaa8",
   "metadata": {},
   "outputs": [
    {
     "name": "stdout",
     "output_type": "stream",
     "text": [
      "R-squared: -11233.582\n",
      "Mean Squared Error (MSE): 0.013\n",
      "Mean Absolute Error (MAE): 0.031\n"
     ]
    }
   ],
   "source": [
    "from sklearn.metrics import r2_score, mean_squared_error, mean_absolute_error\n",
    "\n",
    "# Evaluate performance metrics (R-squared, MSE, MAE) for the blended predictions\n",
    "r2 = r2_score(y_test, blended_predictions)\n",
    "mse = mean_squared_error(y_test, blended_predictions)\n",
    "mae = mean_absolute_error(y_test, blended_predictions)\n",
    "\n",
    "print(f\"R-squared: {r2:.3f}\")\n",
    "print(f\"Mean Squared Error (MSE): {mse:.3f}\")\n",
    "print(f\"Mean Absolute Error (MAE): {mae:.3f}\")\n"
   ]
  },
  {
   "cell_type": "code",
   "execution_count": null,
   "id": "d4f31600",
   "metadata": {},
   "outputs": [],
   "source": []
  },
  {
   "cell_type": "code",
   "execution_count": 12,
   "id": "0f21089f",
   "metadata": {},
   "outputs": [
    {
     "data": {
      "image/png": "[encoded data removed]",
      "text/plain": [
       "<Figure size 800x600 with 1 Axes>"
      ]
     },
     "metadata": {},
     "output_type": "display_data"
    }
   ],
   "source": [
    "import matplotlib.pyplot as plt\n",
    "\n",
    "# Plotting predicted vs. actual\n",
    "plt.figure(figsize=(8, 6))\n",
    "plt.scatter(y_test, blended_predictions, alpha=0.7)\n",
    "plt.plot([y_test.min(), y_test.max()], [y_test.min(), y_test.max()], 'k--', lw=2)\n",
    "plt.xlabel('Actual')\n",
    "plt.ylabel('Predicted')\n",
    "plt.title('Predicted vs Actual')\n",
    "plt.show()\n"
   ]
  },
  {
   "cell_type": "code",
   "execution_count": null,
   "id": "049c2684",
   "metadata": {},
   "outputs": [],
   "source": []
  },
  {
   "cell_type": "code",
   "execution_count": null,
   "id": "8b5a36db",
   "metadata": {},
   "outputs": [],
   "source": [
    "from sklearn.model_selection import GridSearchCV\n",
    "from sklearn.svm import NuSVR\n",
    "\n",
    "# Define parameters for SVR\n",
    "param_grid_svr = {\n",
    "    'C': [1, 10, 100],\n",
    "    'gamma': [0.1, 1, 10],\n",
    "    'kernel': ['rbf', 'linear', 'poly']\n",
    "}\n",
    "\n",
    "# Initialize SVR model\n",
    "svr = NuSVR()\n",
    "\n",
    "# Perform GridSearchCV for SVR\n",
    "grid_svr = GridSearchCV(svr, param_grid_svr, cv=5, scoring='r2')\n",
    "grid_svr.fit(X_train, y_train)\n",
    "\n",
    "# Get the best SVR model\n",
    "best_svr = grid_svr.best_estimator_\n"
   ]
  },
  {
   "cell_type": "code",
   "execution_count": null,
   "id": "a8c6aa90",
   "metadata": {},
   "outputs": [],
   "source": []
  },
  {
   "cell_type": "code",
   "execution_count": null,
   "id": "5999065e",
   "metadata": {},
   "outputs": [],
   "source": [
    "# Retrain the best models on the entire training data\n",
    "best_svr.fit(X_train, y_train)\n",
    "# Repeat for other best models\n"
   ]
  },
  {
   "cell_type": "code",
   "execution_count": null,
   "id": "1e516dfa",
   "metadata": {},
   "outputs": [],
   "source": []
  },
  {
   "cell_type": "code",
   "execution_count": null,
   "id": "c3871541",
   "metadata": {},
   "outputs": [],
   "source": [
    "# Update the base models list with the best-tuned models\n",
    "models = get_models()  # Assuming get_models() returns the base models\n",
    "# Replace the corresponding models with the best-tuned models\n",
    "# For example, replace SVR with the best-tuned SVR model\n",
    "for i, (name, model) in enumerate(models):\n",
    "    if name == 'SVR':\n",
    "        models[i] = ('SVR', best_svr)\n",
    "    # Repeat for other best-tuned models\n"
   ]
  },
  {
   "cell_type": "code",
   "execution_count": null,
   "id": "b0184eba",
   "metadata": {},
   "outputs": [],
   "source": []
  },
  {
   "cell_type": "code",
   "execution_count": null,
   "id": "c895c065",
   "metadata": {},
   "outputs": [],
   "source": [
    "# Refit the ensemble with updated models\n",
    "blender = fit_ensemble(models, X_train, y_train)\n",
    "\n",
    "# Make predictions on the test data using the updated ensemble\n",
    "blended_predictions = predict_ensemble(models, blender, X_test)\n"
   ]
  },
  {
   "cell_type": "code",
   "execution_count": null,
   "id": "ff2f9a33",
   "metadata": {},
   "outputs": [],
   "source": []
  }
 ],
 "metadata": {
  "kernelspec": {
   "display_name": "Python 3 (ipykernel)",
   "language": "python",
   "name": "python3"
  },
  "language_info": {
   "codemirror_mode": {
    "name": "ipython",
    "version": 3
   },
   "file_extension": ".py",
   "mimetype": "text/x-python",
   "name": "python",
   "nbconvert_exporter": "python",
   "pygments_lexer": "ipython3",
   "version": "3.11.5"
  }
 },
 "nbformat": 4,
 "nbformat_minor": 5
}

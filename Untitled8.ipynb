{
 "cells": [
  {
   "cell_type": "code",
   "execution_count": 34,
   "id": "2cdefb71",
   "metadata": {},
   "outputs": [
    {
     "name": "stdout",
     "output_type": "stream",
     "text": [
      "The compressibility factor Z at ppr=1.209987492 and Tpr=1.269996815 is: 0.7336368213409098\n"
     ]
    }
   ],
   "source": [
    "def wang_et_al(ppr, Tpr):\n",
    "    coefficients = {\n",
    "        \"A1\": 256.41675, \"A2\": 7.18202, \"A3\": -178.57250, \"A4\": 182.98704,\n",
    "        \"A5\": -40.74427, \"A6\": 2.24427, \"A7\": 47.44825, \"A8\": 5.28520,\n",
    "        \"A9\": -0.14914, \"A10\": 271.50446, \"A11\": 16.26940, \"A12\": -121.51728,\n",
    "        \"A13\": 167.71477, \"A14\": -81.73093, \"A15\": 20.36191, \"A16\": -2.11770,\n",
    "        \"A17\": 124.64444, \"A18\": -6.74331, \"A19\": 0.20897, \"A20\": -0.00314\n",
    "    }\n",
    "\n",
    "    Z = (\n",
    "        coefficients[\"A1\"] +\n",
    "        coefficients[\"A2\"] * (1 + coefficients[\"A3\"] * Tpr + coefficients[\"A4\"] * Tpr ** 2 + coefficients[\"A5\"] * Tpr ** 3 + coefficients[\"A6\"] * Tpr ** 4) * ppr +\n",
    "        coefficients[\"A7\"] * ppr ** 2 + coefficients[\"A8\"] * ppr ** 3 + coefficients[\"A9\"] * ppr ** 4\n",
    "    ) / (\n",
    "        coefficients[\"A10\"] +\n",
    "        coefficients[\"A11\"] * (1 + coefficients[\"A12\"] * Tpr + coefficients[\"A13\"] * Tpr ** 2 + coefficients[\"A14\"] * Tpr ** 3 + coefficients[\"A15\"] * Tpr ** 4 + coefficients[\"A16\"] * Tpr ** 5) * ppr +\n",
    "        coefficients[\"A17\"] * ppr ** 2 + coefficients[\"A18\"] * ppr ** 3 + coefficients[\"A19\"] * ppr ** 4 + coefficients[\"A20\"] * ppr ** 5\n",
    "    )\n",
    "    \n",
    "    return Z\n"
   ]
  },
  {
   "cell_type": "markdown",
   "id": "9711aca3",
   "metadata": {},
   "source": []
  },
  {
   "cell_type": "code",
   "execution_count": null,
   "id": "b31359c5",
   "metadata": {},
   "outputs": [],
   "source": []
  },
  {
   "cell_type": "code",
   "execution_count": null,
   "id": "99cd9345",
   "metadata": {},
   "outputs": [],
   "source": []
  },
  {
   "cell_type": "code",
   "execution_count": null,
   "id": "1114263d",
   "metadata": {},
   "outputs": [],
   "source": []
  },
  {
   "cell_type": "code",
   "execution_count": 48,
   "id": "8694a453",
   "metadata": {},
   "outputs": [
    {
     "name": "stdout",
     "output_type": "stream",
     "text": [
      "The compressibility factor Z at ppr=1.209987492 and Tpr=1.269996815 is: 0.7399622626413299\n"
     ]
    }
   ],
   "source": [
    "import math\n",
    "\n",
    "def Heidaryan_et_al(ppr, Tpr):\n",
    "    # Tuned coefficients\n",
    "    tuned_coefficients = {\n",
    "        \"A1\": 1.11532372699824, \"A2\": -0.07903952088760, \"A3\": 0.01588138045027,\n",
    "        \"A4\": 0.00886134496010, \"A5\": -2.16190792611599, \"A6\": 1.15753118672070,\n",
    "        \"A7\": -0.05367780720737, \"A8\": 0.01465569989618, \"A9\": -1.80997374923296,\n",
    "        \"A10\": 0.95486038773032\n",
    "    }\n",
    "\n",
    "    ln_ppr = math.log(ppr)\n",
    "    ln_ppr_squared = ln_ppr ** 2\n",
    "    ln_ppr_cubed = ln_ppr ** 3\n",
    "\n",
    "    numerator = (tuned_coefficients[\"A1\"] +\n",
    "                 tuned_coefficients[\"A2\"] * ln_ppr +\n",
    "                 tuned_coefficients[\"A3\"] * ln_ppr_squared +\n",
    "                 tuned_coefficients[\"A4\"] * ln_ppr_cubed +\n",
    "                 tuned_coefficients[\"A5\"] / Tpr +\n",
    "                 tuned_coefficients[\"A6\"] / (Tpr ** 2))\n",
    "\n",
    "    denominator = (1 +\n",
    "                   tuned_coefficients[\"A7\"] * ln_ppr +\n",
    "                   tuned_coefficients[\"A8\"] * ln_ppr_squared +\n",
    "                   tuned_coefficients[\"A9\"] / Tpr +\n",
    "                   tuned_coefficients[\"A10\"] / (Tpr ** 2))\n",
    "\n",
    "    Z = numerator / denominator\n",
    "\n",
    "    return Z\n"
   ]
  },
  {
   "cell_type": "code",
   "execution_count": null,
   "id": "d241b771",
   "metadata": {},
   "outputs": [],
   "source": []
  },
  {
   "cell_type": "code",
   "execution_count": null,
   "id": "f2adf00c",
   "metadata": {},
   "outputs": [],
   "source": []
  },
  {
   "cell_type": "code",
   "execution_count": null,
   "id": "fcb6a923",
   "metadata": {},
   "outputs": [],
   "source": []
  }
 ],
 "metadata": {
  "kernelspec": {
   "display_name": "Python 3 (ipykernel)",
   "language": "python",
   "name": "python3"
  },
  "language_info": {
   "codemirror_mode": {
    "name": "ipython",
    "version": 3
   },
   "file_extension": ".py",
   "mimetype": "text/x-python",
   "name": "python",
   "nbconvert_exporter": "python",
   "pygments_lexer": "ipython3",
   "version": "3.11.5"
  }
 },
 "nbformat": 4,
 "nbformat_minor": 5
}

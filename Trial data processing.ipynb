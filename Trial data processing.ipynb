{
 "cells": [
  {
   "cell_type": "code",
   "execution_count": 4,
   "id": "6886ca59",
   "metadata": {},
   "outputs": [],
   "source": [
    "import pandas as pd\n",
    "import seaborn as sns\n",
    "import matplotlib.pyplot as plt\n",
    "\n",
    "# Load your dataset\n",
    "data = pd.read_csv('new_clean_data.csv')\n",
    "\n",
    "# Define the selected features\n",
    "selected_features = ['T (K)', 'P (MPa)', 'methane', 'ethane', 'propane',\n",
    "                     'ibutane', 'ipentane', 'hexane', 'heptane',\n",
    "                     'helium',\n",
    "                     'oxygen', 'H2S', 'CO2',]\n",
    "\n",
    "# Imputation: Replace missing values with the mean of each column\n",
    "data[selected_features] = data[selected_features].fillna(data[selected_features].mean())\n",
    "\n",
    "# Dropping Rows or Columns: Remove rows with missing values\n",
    "data = data.dropna()\n",
    "\n",
    "# Interpolation: Estimate missing values based on existing data\n",
    "data[selected_features] = data[selected_features].interpolate(method='linear')\n",
    "\n",
    "# Handling Outliers:\n",
    "for feature in selected_features:\n",
    "    # Trimming: Remove outliers by setting boundaries using mean ± 3 standard deviations\n",
    "    mean = data[feature].mean()\n",
    "    std = data[feature].std()\n",
    "    lower_bound = mean - 3 * std\n",
    "    upper_bound = mean + 3 * std\n",
    "    data = data[(data[feature] >= lower_bound) & (data[feature] <= upper_bound)]\n",
    "    \n",
    "    # Capping: Cap extreme values to a predefined percentile (e.g., 95th percentile)\n",
    "    percentile_95 = data[feature].quantile(0.95)\n",
    "    data[feature] = data[feature].clip(upper=percentile_95)\n",
    "\n",
    "# Set the style of the plots (optional but adds visual appeal)\n",
    "    sns.set(style=\"whitegrid\")\n",
    "\n",
    "# Export the cleaned dataframe to a CSV file\n",
    "data.to_csv('new_dataframe_model.csv', index=False)\n",
    "\n",
    "# Now, you have a cleaned and processed dataframe saved \n",
    "# in \"cleaned_main_model_data.csv\" with missing data filled using\n",
    "# statistical measures and outliers handled through trimming and capping.\n"
   ]
  },
  {
   "cell_type": "code",
   "execution_count": null,
   "id": "85365709",
   "metadata": {},
   "outputs": [],
   "source": []
  }
 ],
 "metadata": {
  "kernelspec": {
   "display_name": "Python 3 (ipykernel)",
   "language": "python",
   "name": "python3"
  },
  "language_info": {
   "codemirror_mode": {
    "name": "ipython",
    "version": 3
   },
   "file_extension": ".py",
   "mimetype": "text/x-python",
   "name": "python",
   "nbconvert_exporter": "python",
   "pygments_lexer": "ipython3",
   "version": "3.11.5"
  }
 },
 "nbformat": 4,
 "nbformat_minor": 5
}

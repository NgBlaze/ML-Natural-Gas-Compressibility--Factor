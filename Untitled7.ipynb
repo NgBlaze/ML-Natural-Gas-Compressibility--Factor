{
 "cells": [
  {
   "cell_type": "code",
   "execution_count": 6,
   "id": "664c304e",
   "metadata": {},
   "outputs": [
    {
     "name": "stdout",
     "output_type": "stream",
     "text": [
      "An error occurred: name 'df' is not defined\n"
     ]
    }
   ],
   "source": [
    "import math\n",
    "import pandas as pd\n",
    "\n",
    "def newton_raphson_reduced_density(Ppr, t, Y=0):\n",
    "    A = 0.06125 * t * math.exp(-1.2 * (1 - t) ** 2)\n",
    "    B = t * (14.76 - 9.76 * t + 4.58 * t ** 2)\n",
    "    C = t * (90.7 - 242.2 * t + 42.4 * t ** 2)\n",
    "    D = 2.18 + 2.82 * t\n",
    "    for _ in range(1000):\n",
    "        f = (((Y + Y ** 2 + Y ** 3 - Y ** 4) / ((1 - Y) ** 3)) -\n",
    "             A * Ppr - B * Y ** 2 + C * Y ** D)\n",
    "        df = (((1 + 4 * Y + 4 * Y ** 2 - 4 * Y ** 3 + Y ** 4) /\n",
    "               ((1 - Y) ** 4)) - 2 * B * Y + C * D * Y ** (D - 1))\n",
    "        Y1 = Y - (f / df)\n",
    "        if Y1 == Y or abs((Y1 - Y) / Y1) < 0.0005:\n",
    "            break\n",
    "        Y = Y1\n",
    "    return Y\n",
    "\n",
    "def hall_yarborough_Z_factor(Ppr, Tpr):\n",
    "    t = 1 / Tpr\n",
    "    reduced_density_Y = newton_raphson_reduced_density(Ppr, t)\n",
    "    A = 0.06125 * t * math.exp(-1.2 * (1 - t) ** 2)\n",
    "    z_factor = round(A * Ppr / reduced_density_Y, 2)\n",
    "    return z_factor\n",
    "\n",
    "\n",
    "# Calculate Z-factor for each row in the DataFrame\n",
    "try:\n",
    "    df['HAY'] = df.apply(lambda row: hall_yarborough_Z_factor(row['Corrected Ppr'], row['Corrected Tpr']), axis=1)\n",
    "    print(df)\n",
    "except Exception as e:\n",
    "    print(f\"An error occurred: {e}\")\n"
   ]
  },
  {
   "cell_type": "code",
   "execution_count": null,
   "id": "55ec70c8",
   "metadata": {},
   "outputs": [],
   "source": []
  },
  {
   "cell_type": "code",
   "execution_count": null,
   "id": "ae51863c",
   "metadata": {},
   "outputs": [],
   "source": []
  }
 ],
 "metadata": {
  "kernelspec": {
   "display_name": "Python 3 (ipykernel)",
   "language": "python",
   "name": "python3"
  },
  "language_info": {
   "codemirror_mode": {
    "name": "ipython",
    "version": 3
   },
   "file_extension": ".py",
   "mimetype": "text/x-python",
   "name": "python",
   "nbconvert_exporter": "python",
   "pygments_lexer": "ipython3",
   "version": "3.11.5"
  }
 },
 "nbformat": 4,
 "nbformat_minor": 5
}
